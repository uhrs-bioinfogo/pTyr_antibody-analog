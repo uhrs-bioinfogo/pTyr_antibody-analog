{
 "cells": [
  {
   "cell_type": "code",
   "execution_count": 1,
   "id": "852e1a89-d1af-4f6e-8b57-354c38ecc9e1",
   "metadata": {},
   "outputs": [],
   "source": [
    "import pandas as pd"
   ]
  },
  {
   "cell_type": "code",
   "execution_count": 3,
   "id": "5fd1631f-2395-43f8-bcf5-776e1d615c56",
   "metadata": {},
   "outputs": [],
   "source": [
    "df = pd.read_csv(\"data/seqs.csv\",encoding='utf-8')"
   ]
  },
  {
   "cell_type": "code",
   "execution_count": 9,
   "id": "b587a786-5f8d-46e8-acab-3ea8947b3e45",
   "metadata": {},
   "outputs": [],
   "source": [
    "seqs = df[\"sequence\"].to_list()"
   ]
  },
  {
   "cell_type": "code",
   "execution_count": null,
   "id": "cbf0a27b-bce9-45e7-944d-22b100e033a3",
   "metadata": {},
   "outputs": [],
   "source": [
    "for seq in seqs:\n",
    "    "
   ]
  }
 ],
 "metadata": {
  "kernelspec": {
   "display_name": "Python 3 (ipykernel)",
   "language": "python",
   "name": "python3"
  },
  "language_info": {
   "codemirror_mode": {
    "name": "ipython",
    "version": 3
   },
   "file_extension": ".py",
   "mimetype": "text/x-python",
   "name": "python",
   "nbconvert_exporter": "python",
   "pygments_lexer": "ipython3",
   "version": "3.10.12"
  }
 },
 "nbformat": 4,
 "nbformat_minor": 5
}
